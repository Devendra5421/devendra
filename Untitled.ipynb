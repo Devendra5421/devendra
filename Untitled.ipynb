{
 "cells": [
  {
   "cell_type": "code",
   "execution_count": 13,
   "id": "0343e0fe",
   "metadata": {},
   "outputs": [
    {
     "name": "stdout",
     "output_type": "stream",
     "text": [
      "Defaulting to user installation because normal site-packages is not writeable\n",
      "Requirement already satisfied: pandas in c:\\users\\swarn\\appdata\\roaming\\python\\python310\\site-packages (1.4.2)\n",
      "Requirement already satisfied: python-dateutil>=2.8.1 in c:\\users\\swarn\\appdata\\roaming\\python\\python310\\site-packages (from pandas) (2.8.2)\n",
      "Requirement already satisfied: numpy>=1.21.0 in c:\\users\\swarn\\appdata\\roaming\\python\\python310\\site-packages (from pandas) (1.22.4)\n",
      "Requirement already satisfied: pytz>=2020.1 in c:\\users\\swarn\\appdata\\roaming\\python\\python310\\site-packages (from pandas) (2022.1)\n",
      "Requirement already satisfied: six>=1.5 in c:\\users\\swarn\\appdata\\roaming\\python\\python310\\site-packages (from python-dateutil>=2.8.1->pandas) (1.16.0)\n",
      "Note: you may need to restart the kernel to use updated packages.\n"
     ]
    },
    {
     "name": "stderr",
     "output_type": "stream",
     "text": [
      "WARNING: You are using pip version 22.0.4; however, version 22.1.2 is available.\n",
      "You should consider upgrading via the 'c:\\Program Files\\Python310\\python.exe -m pip install --upgrade pip' command.\n"
     ]
    }
   ],
   "source": [
    "pip install pandas\n"
   ]
  },
  {
   "cell_type": "code",
   "execution_count": 14,
   "id": "5bb41c56",
   "metadata": {},
   "outputs": [
    {
     "name": "stdout",
     "output_type": "stream",
     "text": [
      "Defaulting to user installation because normal site-packages is not writeable\n",
      "Requirement already satisfied: numpy in c:\\users\\swarn\\appdata\\roaming\\python\\python310\\site-packages (1.22.4)\n",
      "Note: you may need to restart the kernel to use updated packages.\n"
     ]
    },
    {
     "name": "stderr",
     "output_type": "stream",
     "text": [
      "WARNING: You are using pip version 22.0.4; however, version 22.1.2 is available.\n",
      "You should consider upgrading via the 'c:\\Program Files\\Python310\\python.exe -m pip install --upgrade pip' command.\n"
     ]
    }
   ],
   "source": [
    "pip install numpy"
   ]
  },
  {
   "cell_type": "code",
   "execution_count": 15,
   "id": "8eae0516",
   "metadata": {},
   "outputs": [
    {
     "name": "stdout",
     "output_type": "stream",
     "text": [
      "Defaulting to user installation because normal site-packages is not writeable\n",
      "Collecting matplotlib\n",
      "  Downloading matplotlib-3.5.2-cp310-cp310-win_amd64.whl (7.2 MB)\n",
      "     ---------------------------------------- 7.2/7.2 MB 3.4 MB/s eta 0:00:00\n",
      "Collecting pillow>=6.2.0\n",
      "  Downloading Pillow-9.2.0-cp310-cp310-win_amd64.whl (3.3 MB)\n",
      "     ---------------------------------------- 3.3/3.3 MB 3.9 MB/s eta 0:00:00\n",
      "Collecting kiwisolver>=1.0.1\n",
      "  Downloading kiwisolver-1.4.4-cp310-cp310-win_amd64.whl (55 kB)\n",
      "     ---------------------------------------- 55.3/55.3 KB 3.0 MB/s eta 0:00:00\n",
      "Collecting cycler>=0.10\n",
      "  Downloading cycler-0.11.0-py3-none-any.whl (6.4 kB)\n",
      "Requirement already satisfied: numpy>=1.17 in c:\\users\\swarn\\appdata\\roaming\\python\\python310\\site-packages (from matplotlib) (1.22.4)\n",
      "Requirement already satisfied: pyparsing>=2.2.1 in c:\\users\\swarn\\appdata\\roaming\\python\\python310\\site-packages (from matplotlib) (3.0.9)\n",
      "Requirement already satisfied: packaging>=20.0 in c:\\users\\swarn\\appdata\\roaming\\python\\python310\\site-packages (from matplotlib) (21.3)\n",
      "Collecting fonttools>=4.22.0\n",
      "  Downloading fonttools-4.34.4-py3-none-any.whl (944 kB)\n",
      "     -------------------------------------- 944.1/944.1 KB 5.4 MB/s eta 0:00:00\n",
      "Requirement already satisfied: python-dateutil>=2.7 in c:\\users\\swarn\\appdata\\roaming\\python\\python310\\site-packages (from matplotlib) (2.8.2)\n",
      "Requirement already satisfied: six>=1.5 in c:\\users\\swarn\\appdata\\roaming\\python\\python310\\site-packages (from python-dateutil>=2.7->matplotlib) (1.16.0)\n",
      "Installing collected packages: pillow, kiwisolver, fonttools, cycler, matplotlib\n",
      "Successfully installed cycler-0.11.0 fonttools-4.34.4 kiwisolver-1.4.4 matplotlib-3.5.2 pillow-9.2.0\n",
      "Note: you may need to restart the kernel to use updated packages.\n"
     ]
    },
    {
     "name": "stderr",
     "output_type": "stream",
     "text": [
      "  WARNING: The scripts fonttools.exe, pyftmerge.exe, pyftsubset.exe and ttx.exe are installed in 'C:\\Users\\swarn\\AppData\\Roaming\\Python\\Python310\\Scripts' which is not on PATH.\n",
      "  Consider adding this directory to PATH or, if you prefer to suppress this warning, use --no-warn-script-location.\n",
      "WARNING: You are using pip version 22.0.4; however, version 22.1.2 is available.\n",
      "You should consider upgrading via the 'c:\\Program Files\\Python310\\python.exe -m pip install --upgrade pip' command.\n"
     ]
    }
   ],
   "source": [
    "pip install matplotlib"
   ]
  },
  {
   "cell_type": "code",
   "execution_count": 16,
   "id": "6cc9201e",
   "metadata": {},
   "outputs": [],
   "source": [
    "import pandas as pd\n",
    "import numpy as np\n",
    "from matplotlib import pyplot as plt"
   ]
  },
  {
   "cell_type": "code",
   "execution_count": 72,
   "id": "bc9254a0",
   "metadata": {},
   "outputs": [
    {
     "name": "stdout",
     "output_type": "stream",
     "text": [
      "28 61.800000000000004 314.8 140 7\n",
      "2.4142857142857133\n",
      "-0.8285714285714231\n",
      "[1.5857142857142903, 4.0000000000000036, 6.414285714285717, 8.82857142857143, 11.242857142857142, 13.657142857142857, 16.07142857142857]\n",
      "[0.8300122784479075, 0.9820137900379085, 0.9983646891391207, 0.9998535340976704, 0.9999868996320885, 0.9999988284044601, 0.9999998952226984]\n"
     ]
    },
    {
     "data": {
      "image/png": "[encoded data removed]",
      "text/plain": [
       "<Figure size 432x288 with 1 Axes>"
      ]
     },
     "metadata": {
      "needs_background": "light"
     },
     "output_type": "display_data"
    }
   ],
   "source": [
    "class LinearRegression():\n",
    "    def __init__(self, X ,Y):\n",
    "        self.X = X\n",
    "        self.Y = Y\n",
    "        f_data = pd.DataFrame()\n",
    "        f_data['X'] = self.X\n",
    "        f_data['Y'] = self.Y\n",
    "        sum_x = f_data['X'].sum()\n",
    "        sum_y = f_data['Y'].sum()\n",
    "        sum_xy = (f_data['X']*f_data['Y']).sum()\n",
    "        sum_x2 = (f_data['X']*f_data['X']).sum()\n",
    "        n = len(f_data)\n",
    "        print(sum_x, sum_y ,sum_xy, sum_x2 ,n)\n",
    "        pass\n",
    "    def m(self):\n",
    "        f_data = pd.DataFrame()\n",
    "        f_data['X'] = self.X\n",
    "        f_data['Y'] = self.Y\n",
    "        sum_x = f_data['X'].sum()\n",
    "        sum_y = f_data['Y'].sum()\n",
    "        sum_xy = (f_data['X']*f_data['Y']).sum()\n",
    "        sum_x2 = (f_data['X']*f_data['X']).sum()\n",
    "        n = len(f_data)\n",
    "        \n",
    "        m = ((n * sum_xy) - (sum_x * sum_y))/((n * sum_x2) - (sum_x) ** 2)\n",
    "        \n",
    "        \n",
    "        print(m)\n",
    "        \n",
    "    def coef(self):\n",
    "        f_data = pd.DataFrame()\n",
    "        f_data['X'] = self.X\n",
    "        f_data['Y'] = self.Y\n",
    "        sum_x = f_data['X'].sum()\n",
    "        sum_y = f_data['Y'].sum()\n",
    "        sum_xy = (f_data['X']*f_data['Y']).sum()\n",
    "        sum_x2 = (f_data['X']*f_data['X']).sum()\n",
    "        n = len(f_data)\n",
    "        m = ((n * sum_xy) - (sum_x * sum_y))/((n * sum_x2) - (sum_x) ** 2)\n",
    "        coef = ((sum_y) - (m*sum_x))/n\n",
    "        print(coef)\n",
    "        pass\n",
    "    def y(self):\n",
    "        f_data = pd.DataFrame()\n",
    "        f_data['X'] = self.X\n",
    "        f_data['Y'] = self.Y\n",
    "        sum_x = f_data['X'].sum()\n",
    "        sum_y = f_data['Y'].sum()\n",
    "        sum_xy = (f_data['X']*f_data['Y']).sum()\n",
    "        sum_x2 = (f_data['X']*f_data['X']).sum()\n",
    "        n = len(f_data)\n",
    "        m = ((n * sum_xy) - (sum_x * sum_y))/((n * sum_x2) - (sum_x) ** 2)\n",
    "        coef = ((sum_y) - (m*sum_x))/n\n",
    "        y = [m * x + coef for x in f_data['X']]\n",
    "        \n",
    "        print(y)\n",
    "        \n",
    "        pass\n",
    "    def d(self):\n",
    "        f_data = pd.DataFrame()\n",
    "        f_data['X'] = self.X\n",
    "        f_data['Y'] = self.Y\n",
    "        sum_x = f_data['X'].sum()\n",
    "        sum_y = f_data['Y'].sum()\n",
    "        sum_xy = (f_data['X']*f_data['Y']).sum()\n",
    "        sum_x2 = (f_data['X']*f_data['X']).sum()\n",
    "        n = len(f_data)\n",
    "        m = ((n * sum_xy) - (sum_x * sum_y))/((n * sum_x2) - (sum_x) ** 2)\n",
    "        coef = ((sum_y) - (m*sum_x))/n\n",
    "        y = [m * x + coef for x in f_data['X']]\n",
    "        \n",
    "        \n",
    "        b = [1/(1+np.exp(-ys)) for ys in y]\n",
    "        print(b)\n",
    "        pass\n",
    "    def visualize(self):\n",
    "        f_data = pd.DataFrame()\n",
    "        f_data['X'] = self.X\n",
    "        f_data['Y'] = self.Y\n",
    "        plt.scatter(f_data['X'], f_data['Y'])\n",
    "        plt.xlabel(\"values\")\n",
    "        plt.ylabel(\"Frequency\")\n",
    "        plt.grid()\n",
    "        plt.title(\"LinearRegression\")\n",
    "        plt.show()\n",
    "        pass\n",
    "obj = LinearRegression([1, 2, 3, 4, 5, 6, 7], [1.5, 3.8, 6.7, 9.0, 11.2, 13.6, 16])\n",
    "obj.m()\n",
    "obj.coef()\n",
    "obj.y()\n",
    "obj.d()\n",
    "obj.visualize()\n",
    "    "
   ]
  },
  {
   "cell_type": "code",
   "execution_count": null,
   "id": "369dcfa9",
   "metadata": {},
   "outputs": [],
   "source": []
  },
  {
   "cell_type": "code",
   "execution_count": null,
   "id": "6b5363fe",
   "metadata": {},
   "outputs": [],
   "source": []
  }
 ],
 "metadata": {
  "kernelspec": {
   "display_name": "Python 3.10.4 64-bit",
   "language": "python",
   "name": "python3"
  },
  "language_info": {
   "codemirror_mode": {
    "name": "ipython",
    "version": 3
   },
   "file_extension": ".py",
   "mimetype": "text/x-python",
   "name": "python",
   "nbconvert_exporter": "python",
   "pygments_lexer": "ipython3",
   "version": "3.10.4"
  },
  "vscode": {
   "interpreter": {
    "hash": "26de051ba29f2982a8de78e945f0abaf191376122a1563185a90213a26c5da77"
   }
  }
 },
 "nbformat": 4,
 "nbformat_minor": 5
}
