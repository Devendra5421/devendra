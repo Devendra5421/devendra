{
 "cells": [
  {
   "cell_type": "code",
   "execution_count": 2,
   "id": "7d9e5834",
   "metadata": {},
   "outputs": [],
   "source": [
    "import pandas as pd\n",
    "import numpy as np\n",
    "from matplotlib import pyplot as plt\n"
   ]
  },
  {
   "cell_type": "code",
   "execution_count": 3,
   "id": "767b2ae3",
   "metadata": {},
   "outputs": [
    {
     "name": "stdout",
     "output_type": "stream",
     "text": [
      "28 61.800000000000004 314.8 140 7\n"
     ]
    },
    {
     "ename": "NameError",
     "evalue": "name 'sum_x' is not defined",
     "output_type": "error",
     "traceback": [
      "\u001b[1;31m---------------------------------------------------------------------------\u001b[0m",
      "\u001b[1;31mNameError\u001b[0m                                 Traceback (most recent call last)",
      "\u001b[1;32mc:\\Users\\swarn\\Desktop\\Devendra1\\Untitled1.ipynb Cell 2\u001b[0m in \u001b[0;36m<cell line: 20>\u001b[1;34m()\u001b[0m\n\u001b[0;32m     <a href='vscode-notebook-cell:/c%3A/Users/swarn/Desktop/Devendra1/Untitled1.ipynb#ch0000001?line=17'>18</a>\u001b[0m         reutn(\u001b[39mself\u001b[39m\u001b[39m.\u001b[39mX,\u001b[39mself\u001b[39m\u001b[39m.\u001b[39mY)\n\u001b[0;32m     <a href='vscode-notebook-cell:/c%3A/Users/swarn/Desktop/Devendra1/Untitled1.ipynb#ch0000001?line=18'>19</a>\u001b[0m l_obj \u001b[39m=\u001b[39m LinearRegression([\u001b[39m1\u001b[39m, \u001b[39m2\u001b[39m, \u001b[39m3\u001b[39m, \u001b[39m4\u001b[39m, \u001b[39m5\u001b[39m, \u001b[39m6\u001b[39m, \u001b[39m7\u001b[39m], [\u001b[39m1.5\u001b[39m,\u001b[39m3.8\u001b[39m,\u001b[39m6.7\u001b[39m,\u001b[39m9.0\u001b[39m,\u001b[39m11.2\u001b[39m,\u001b[39m13.6\u001b[39m,\u001b[39m16\u001b[39m])\n\u001b[1;32m---> <a href='vscode-notebook-cell:/c%3A/Users/swarn/Desktop/Devendra1/Untitled1.ipynb#ch0000001?line=19'>20</a>\u001b[0m l_obj\u001b[39m.\u001b[39;49mm()\n",
      "\u001b[1;32mc:\\Users\\swarn\\Desktop\\Devendra1\\Untitled1.ipynb Cell 2\u001b[0m in \u001b[0;36mLinearRegression.m\u001b[1;34m(self)\u001b[0m\n\u001b[0;32m     <a href='vscode-notebook-cell:/c%3A/Users/swarn/Desktop/Devendra1/Untitled1.ipynb#ch0000001?line=14'>15</a>\u001b[0m \u001b[39mdef\u001b[39;00m \u001b[39mm\u001b[39m(\u001b[39mself\u001b[39m):\n\u001b[1;32m---> <a href='vscode-notebook-cell:/c%3A/Users/swarn/Desktop/Devendra1/Untitled1.ipynb#ch0000001?line=15'>16</a>\u001b[0m     m \u001b[39m=\u001b[39m sum_x \u001b[39m+\u001b[39m sum_y\n\u001b[0;32m     <a href='vscode-notebook-cell:/c%3A/Users/swarn/Desktop/Devendra1/Untitled1.ipynb#ch0000001?line=16'>17</a>\u001b[0m     \u001b[39mprint\u001b[39m(m)\n\u001b[0;32m     <a href='vscode-notebook-cell:/c%3A/Users/swarn/Desktop/Devendra1/Untitled1.ipynb#ch0000001?line=17'>18</a>\u001b[0m     reutn(\u001b[39mself\u001b[39m\u001b[39m.\u001b[39mX,\u001b[39mself\u001b[39m\u001b[39m.\u001b[39mY)\n",
      "\u001b[1;31mNameError\u001b[0m: name 'sum_x' is not defined"
     ]
    }
   ],
   "source": [
    "class LinearRegression:\n",
    "    def __init__(self,X,Y):\n",
    "        self.X=X\n",
    "        self.Y=Y\n",
    "        f_data = pd.DataFrame()\n",
    "        f_data['X'] = self.X\n",
    "        f_data['Y'] = self.Y\n",
    "        sum_x = f_data['X'].sum()\n",
    "        sum_y = f_data['Y'].sum()\n",
    "        sum_xy = (f_data['X']*f_data['Y']).sum()\n",
    "        sum_x2 = (f_data['X']**2).sum()\n",
    "        n = len(f_data)\n",
    "        print(sum_x,sum_y,sum_xy,sum_x2,n)\n",
    "        pass\n",
    "    def m(self):\n",
    "        m = sum_x + sum_y\n",
    "        print(m)\n",
    "        reutn(self.X,self.Y)\n",
    "l_obj = LinearRegression([1, 2, 3, 4, 5, 6, 7], [1.5,3.8,6.7,9.0,11.2,13.6,16])\n",
    "l_obj.m()\n",
    "\n",
    "    \n",
    "    "
   ]
  },
  {
   "cell_type": "code",
   "execution_count": null,
   "id": "8580b26f",
   "metadata": {},
   "outputs": [],
   "source": []
  }
 ],
 "metadata": {
  "kernelspec": {
   "display_name": "Python 3.10.4 64-bit",
   "language": "python",
   "name": "python3"
  },
  "language_info": {
   "codemirror_mode": {
    "name": "ipython",
    "version": 3
   },
   "file_extension": ".py",
   "mimetype": "text/x-python",
   "name": "python",
   "nbconvert_exporter": "python",
   "pygments_lexer": "ipython3",
   "version": "3.10.4"
  },
  "vscode": {
   "interpreter": {
    "hash": "26de051ba29f2982a8de78e945f0abaf191376122a1563185a90213a26c5da77"
   }
  }
 },
 "nbformat": 4,
 "nbformat_minor": 5
}
